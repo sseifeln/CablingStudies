{
 "cells": [
  {
   "cell_type": "code",
   "execution_count": 2,
   "metadata": {},
   "outputs": [],
   "source": [
    "import QuickLoad"
   ]
  },
  {
   "cell_type": "markdown",
   "metadata": {},
   "source": [
    "Try and get the module count, min/mean/max of sensorsFluenceMean_Hb and sensorsFluenceMax_Hb for each DTC."
   ]
  },
  {
   "cell_type": "code",
   "execution_count": 3,
   "metadata": {},
   "outputs": [],
   "source": [
    "cMap_PS10G = QuickLoad.mergeMaps(modType=\"PS10G\")\n",
    "cMap_PS5G = QuickLoad.mergeMaps(modType=\"PS5G\")\n",
    "cMap_2S = QuickLoad.mergeMaps(modType=\"2S\")"
   ]
  },
  {
   "cell_type": "markdown",
   "metadata": {},
   "source": [
    "Quickly look at a few entries in one of the maps. For example, PS10G"
   ]
  },
  {
   "cell_type": "code",
   "execution_count": 4,
   "metadata": {},
   "outputs": [
    {
     "data": {
      "text/html": [
       "<div>\n",
       "<style scoped>\n",
       "    .dataframe tbody tr th:only-of-type {\n",
       "        vertical-align: middle;\n",
       "    }\n",
       "\n",
       "    .dataframe tbody tr th {\n",
       "        vertical-align: top;\n",
       "    }\n",
       "\n",
       "    .dataframe thead th {\n",
       "        text-align: right;\n",
       "    }\n",
       "</style>\n",
       "<table border=\"1\" class=\"dataframe\">\n",
       "  <thead>\n",
       "    <tr style=\"text-align: right;\">\n",
       "      <th></th>\n",
       "      <th>DTC CMSSW Id</th>\n",
       "      <th>Module Count</th>\n",
       "      <th>sensorsFluenceMean_Hbmin</th>\n",
       "      <th>sensorsFluenceMax_Hbmin</th>\n",
       "      <th>sensorsFluenceMean_Hbmax</th>\n",
       "      <th>sensorsFluenceMax_Hbmax</th>\n",
       "      <th>sensorsFluenceMean_Hbmean</th>\n",
       "      <th>sensorsFluenceMax_Hbmean</th>\n",
       "    </tr>\n",
       "  </thead>\n",
       "  <tbody>\n",
       "    <tr>\n",
       "      <th>0</th>\n",
       "      <td>1</td>\n",
       "      <td>50</td>\n",
       "      <td>3.110001e+14</td>\n",
       "      <td>3.265873e+14</td>\n",
       "      <td>9.503160e+14</td>\n",
       "      <td>9.842635e+14</td>\n",
       "      <td>5.392667e+14</td>\n",
       "      <td>5.770581e+14</td>\n",
       "    </tr>\n",
       "    <tr>\n",
       "      <th>1</th>\n",
       "      <td>2</td>\n",
       "      <td>46</td>\n",
       "      <td>3.184944e+14</td>\n",
       "      <td>3.309810e+14</td>\n",
       "      <td>7.978052e+14</td>\n",
       "      <td>9.385031e+14</td>\n",
       "      <td>5.898971e+14</td>\n",
       "      <td>6.689812e+14</td>\n",
       "    </tr>\n",
       "    <tr>\n",
       "      <th>2</th>\n",
       "      <td>3</td>\n",
       "      <td>58</td>\n",
       "      <td>4.331771e+14</td>\n",
       "      <td>4.706001e+14</td>\n",
       "      <td>7.084885e+14</td>\n",
       "      <td>8.160849e+14</td>\n",
       "      <td>4.873782e+14</td>\n",
       "      <td>5.235767e+14</td>\n",
       "    </tr>\n",
       "    <tr>\n",
       "      <th>3</th>\n",
       "      <td>13</td>\n",
       "      <td>44</td>\n",
       "      <td>3.110001e+14</td>\n",
       "      <td>3.265873e+14</td>\n",
       "      <td>9.503160e+14</td>\n",
       "      <td>9.842635e+14</td>\n",
       "      <td>5.500010e+14</td>\n",
       "      <td>5.877106e+14</td>\n",
       "    </tr>\n",
       "    <tr>\n",
       "      <th>4</th>\n",
       "      <td>14</td>\n",
       "      <td>43</td>\n",
       "      <td>3.184944e+14</td>\n",
       "      <td>3.309810e+14</td>\n",
       "      <td>7.978052e+14</td>\n",
       "      <td>9.385031e+14</td>\n",
       "      <td>6.037965e+14</td>\n",
       "      <td>6.860574e+14</td>\n",
       "    </tr>\n",
       "    <tr>\n",
       "      <th>5</th>\n",
       "      <td>15</td>\n",
       "      <td>67</td>\n",
       "      <td>4.331771e+14</td>\n",
       "      <td>4.706001e+14</td>\n",
       "      <td>7.084885e+14</td>\n",
       "      <td>8.160849e+14</td>\n",
       "      <td>4.951278e+14</td>\n",
       "      <td>5.263611e+14</td>\n",
       "    </tr>\n",
       "    <tr>\n",
       "      <th>6</th>\n",
       "      <td>25</td>\n",
       "      <td>51</td>\n",
       "      <td>3.110001e+14</td>\n",
       "      <td>3.265873e+14</td>\n",
       "      <td>9.503160e+14</td>\n",
       "      <td>9.842635e+14</td>\n",
       "      <td>5.423508e+14</td>\n",
       "      <td>5.812782e+14</td>\n",
       "    </tr>\n",
       "    <tr>\n",
       "      <th>7</th>\n",
       "      <td>26</td>\n",
       "      <td>46</td>\n",
       "      <td>3.184944e+14</td>\n",
       "      <td>3.309810e+14</td>\n",
       "      <td>7.978052e+14</td>\n",
       "      <td>9.385031e+14</td>\n",
       "      <td>5.898971e+14</td>\n",
       "      <td>6.689812e+14</td>\n",
       "    </tr>\n",
       "    <tr>\n",
       "      <th>8</th>\n",
       "      <td>27</td>\n",
       "      <td>59</td>\n",
       "      <td>4.331771e+14</td>\n",
       "      <td>4.706001e+14</td>\n",
       "      <td>7.084885e+14</td>\n",
       "      <td>8.160849e+14</td>\n",
       "      <td>4.911077e+14</td>\n",
       "      <td>5.284478e+14</td>\n",
       "    </tr>\n",
       "    <tr>\n",
       "      <th>9</th>\n",
       "      <td>37</td>\n",
       "      <td>46</td>\n",
       "      <td>3.110001e+14</td>\n",
       "      <td>3.265873e+14</td>\n",
       "      <td>9.503160e+14</td>\n",
       "      <td>9.842635e+14</td>\n",
       "      <td>5.493871e+14</td>\n",
       "      <td>5.876754e+14</td>\n",
       "    </tr>\n",
       "  </tbody>\n",
       "</table>\n",
       "</div>"
      ],
      "text/plain": [
       "   DTC CMSSW Id  Module Count   sensorsFluenceMean_Hbmin  \\\n",
       "0             1            50               3.110001e+14   \n",
       "1             2            46               3.184944e+14   \n",
       "2             3            58               4.331771e+14   \n",
       "3            13            44               3.110001e+14   \n",
       "4            14            43               3.184944e+14   \n",
       "5            15            67               4.331771e+14   \n",
       "6            25            51               3.110001e+14   \n",
       "7            26            46               3.184944e+14   \n",
       "8            27            59               4.331771e+14   \n",
       "9            37            46               3.110001e+14   \n",
       "\n",
       "    sensorsFluenceMax_Hbmin   sensorsFluenceMean_Hbmax  \\\n",
       "0              3.265873e+14               9.503160e+14   \n",
       "1              3.309810e+14               7.978052e+14   \n",
       "2              4.706001e+14               7.084885e+14   \n",
       "3              3.265873e+14               9.503160e+14   \n",
       "4              3.309810e+14               7.978052e+14   \n",
       "5              4.706001e+14               7.084885e+14   \n",
       "6              3.265873e+14               9.503160e+14   \n",
       "7              3.309810e+14               7.978052e+14   \n",
       "8              4.706001e+14               7.084885e+14   \n",
       "9              3.265873e+14               9.503160e+14   \n",
       "\n",
       "    sensorsFluenceMax_Hbmax   sensorsFluenceMean_Hbmean  \\\n",
       "0              9.842635e+14                5.392667e+14   \n",
       "1              9.385031e+14                5.898971e+14   \n",
       "2              8.160849e+14                4.873782e+14   \n",
       "3              9.842635e+14                5.500010e+14   \n",
       "4              9.385031e+14                6.037965e+14   \n",
       "5              8.160849e+14                4.951278e+14   \n",
       "6              9.842635e+14                5.423508e+14   \n",
       "7              9.385031e+14                5.898971e+14   \n",
       "8              8.160849e+14                4.911077e+14   \n",
       "9              9.842635e+14                5.493871e+14   \n",
       "\n",
       "    sensorsFluenceMax_Hbmean  \n",
       "0               5.770581e+14  \n",
       "1               6.689812e+14  \n",
       "2               5.235767e+14  \n",
       "3               5.877106e+14  \n",
       "4               6.860574e+14  \n",
       "5               5.263611e+14  \n",
       "6               5.812782e+14  \n",
       "7               6.689812e+14  \n",
       "8               5.284478e+14  \n",
       "9               5.876754e+14  "
      ]
     },
     "execution_count": 4,
     "metadata": {},
     "output_type": "execute_result"
    }
   ],
   "source": [
    "cMap_PS10G.head(10)"
   ]
  },
  {
   "cell_type": "markdown",
   "metadata": {},
   "source": [
    "Then here, histograms of the number of modules"
   ]
  },
  {
   "cell_type": "code",
   "execution_count": 5,
   "metadata": {},
   "outputs": [
    {
     "data": {
      "text/plain": [
       "array([[<AxesSubplot:title={'center':'Module Count'}>]], dtype=object)"
      ]
     },
     "execution_count": 5,
     "metadata": {},
     "output_type": "execute_result"
    },
    {
     "data": {
      "image/png": "[encoded data removed]",
      "text/plain": [
       "<Figure size 432x288 with 1 Axes>"
      ]
     },
     "metadata": {
      "needs_background": "light"
     },
     "output_type": "display_data"
    },
    {
     "data": {
      "image/png": "[encoded data removed]",
      "text/plain": [
       "<Figure size 432x288 with 1 Axes>"
      ]
     },
     "metadata": {
      "needs_background": "light"
     },
     "output_type": "display_data"
    },
    {
     "data": {
      "image/png": "[encoded data removed]",
      "text/plain": [
       "<Figure size 432x288 with 1 Axes>"
      ]
     },
     "metadata": {
      "needs_background": "light"
     },
     "output_type": "display_data"
    }
   ],
   "source": [
    "cMap_PS10G.hist(column=['Module Count'])\n",
    "cMap_PS10G['CIC Count'] = cMap_PS10G['Module Count']*2\n",
    "cMap_PS5G.hist(column=['Module Count'])\n",
    "cMap_2S.hist(column=['Module Count'])"
   ]
  },
  {
   "cell_type": "code",
   "execution_count": null,
   "metadata": {},
   "outputs": [],
   "source": []
  }
 ],
 "metadata": {
  "kernelspec": {
   "display_name": "Python 3",
   "language": "python",
   "name": "python3"
  },
  "language_info": {
   "codemirror_mode": {
    "name": "ipython",
    "version": 3
   },
   "file_extension": ".py",
   "mimetype": "text/x-python",
   "name": "python",
   "nbconvert_exporter": "python",
   "pygments_lexer": "ipython3",
   "version": "3.8.5"
  }
 },
 "nbformat": 4,
 "nbformat_minor": 4
}
